{
 "cells": [
  {
   "cell_type": "code",
   "execution_count": 1,
   "metadata": {},
   "outputs": [
    {
     "name": "stdout",
     "output_type": "stream",
     "text": [
      "Enter two numbers which you want sum and product : 2\n",
      "3\n",
      "Sum of  2 and  3 is  5\n",
      "Product of  2 and  3 is  6\n"
     ]
    }
   ],
   "source": [
    "#1. WAP to take i/p from user and print the sum and product of two n0. using variables\n",
    "a=int(input('Enter two numbers which you want sum and product : '));\n",
    "b=int(input());\n",
    "c=a+b;\n",
    "d=a*b;\n",
    "print('Sum of ',a,'and ',b,'is ',c);\n",
    "print('Product of ',a,'and ',b,'is ',d);"
   ]
  },
  {
   "cell_type": "code",
   "execution_count": 3,
   "metadata": {},
   "outputs": [
    {
     "name": "stdout",
     "output_type": "stream",
     "text": [
      "Enter two nos. which you want to swap 3\n",
      "7\n",
      "Your 1st no. a is  3 and 2nd no. is  7\n",
      "Now your 1st no. a is  7 and 2nd no. is  3\n"
     ]
    }
   ],
   "source": [
    "#2. WAP to swap two nos.\n",
    "a=int(input('Enter two nos. which you want to swap '));\n",
    "b=int(int(input()));\n",
    "print('Your 1st no. a is ',a,'and 2nd no. is ',b);\n",
    "c=a;\n",
    "a=b;\n",
    "b=c;\n",
    "print('Now your 1st no. a is ',a,'and 2nd no. is ',b);"
   ]
  },
  {
   "cell_type": "code",
   "execution_count": null,
   "metadata": {},
   "outputs": [],
   "source": [
    "#3. WAP to swap two nos. without using a 3rd variable\n",
    "a=int(input('Enter two nos. which you want to swap '));\n",
    "b=int(int(input()));\n",
    "print('Your 1st no. a is ',a,'and 2nd no. is ',b);\n",
    "a,b=b,a;\n",
    "print('Now your 1st no. a is ',a,'and 2nd no. is ',b);"
   ]
  },
  {
   "cell_type": "code",
   "execution_count": 2,
   "metadata": {},
   "outputs": [
    {
     "name": "stdout",
     "output_type": "stream",
     "text": [
      "You want area and perimeter of :-\n",
      "      1.Triangle\n",
      "      2.Square\n",
      "      3.Rectangle\n",
      "      4.Circle\n",
      "      5.Exit\n",
      "      press corresponding no. 5\n"
     ]
    }
   ],
   "source": [
    "#4. WAP to calculate area and perimeter of triangle, square, rectangle, circle\n",
    "while(1):\n",
    "    a=int(input('''You want area and perimeter of :-\n",
    "      1.Triangle\n",
    "      2.Square\n",
    "      3.Rectangle\n",
    "      4.Circle\n",
    "      5.Exit\n",
    "      press corresponding no. '''));\n",
    "    if(a==1):\n",
    "        print('Enter the dimensions of Tringles(all three side)');\n",
    "        x=float(input( ));\n",
    "        b=float(input( ));\n",
    "        c=float(input( ));\n",
    "        p=(x+b+c)/2;\n",
    "        area=((p*(p-x)*(p-b)*(p-c))**0.5);\n",
    "        print('Perimeter of triangle is  ',p,'unit and area is ',area,'unit^2');\n",
    "    elif(a==2):\n",
    "        print('Enter the dimensions of Square (one side)');\n",
    "        x=float(input( ));\n",
    "        p=4*x;\n",
    "        area=x**2;\n",
    "        print('Perimeter of square is  ',p,'unit and area is ',area,'unit^2');\n",
    "    elif(a==3):\n",
    "        print('Enter the dimensions of Rectangle');\n",
    "        x=float(input( ));\n",
    "        b=float(input( ));\n",
    "        p=2*(x+b);\n",
    "        area=x*b;\n",
    "        print('Perimeter of rectangle is  ',p,'unit and area is ',area,'unit^2');\n",
    "    elif(a==4):\n",
    "        print('Enter the radius(radius=dimeter/2) of Circle');\n",
    "        x=float(input( ));\n",
    "        p=(2*(22/7)*x);\n",
    "        area=(22/7)*x**2;\n",
    "        print('Perimeter(circumference) of circle is  ',p,'unit and area is ',area,'unit^2');\n",
    "    elif(a==5):\n",
    "        break;\n",
    "    else:\n",
    "        print('Enter invalid no. you press invalid key please press valid key');\n"
   ]
  },
  {
   "cell_type": "code",
   "execution_count": 2,
   "metadata": {},
   "outputs": [
    {
     "name": "stdout",
     "output_type": "stream",
     "text": [
      "You want volume of :-\n",
      "      1.Cube\n",
      "      2.Cuboid\n",
      "      3.Sphere\n",
      "      4.Cylinder\n",
      "      5.Exit\n",
      "      press corresponding no. 5\n"
     ]
    }
   ],
   "source": [
    "#5. WAP to calculate the volume of - cube, cuboid, sphere, cylinder.\n",
    "while(1):\n",
    "    a=int(input('''You want volume of :-\n",
    "      1.Cube\n",
    "      2.Cuboid\n",
    "      3.Sphere\n",
    "      4.Cylinder\n",
    "      5.Exit\n",
    "      press corresponding no. '''));\n",
    "    if(a==1):\n",
    "        print('Enter the dimensions of Cube');\n",
    "        b=float(input( ));\n",
    "        vol=b**3;\n",
    "        print('Volume of cube is  ',vol,'unit^3');\n",
    "    elif(a==2):\n",
    "        print('Enter the dimensions of Cuboid');\n",
    "        b=float(input( ));\n",
    "        c=float(input( ));\n",
    "        d=float(input( ));\n",
    "        vol=b*c*d;\n",
    "        print('Volume of cuboid is  ',vol,'unit^3');\n",
    "    elif(a==3):\n",
    "        print('Enter the radius(radius=diameter/2) of Sphere');\n",
    "        b=float(input( ));\n",
    "        vol=(4/3)*(22/7)*b**3;\n",
    "        print('Volume of Sphere is  ',vol,'unit^3');\n",
    "    elif(a==4):\n",
    "        print('Enter the radius(radius=diameter/2) and height of Cylinder respectively');\n",
    "        b=float(input('radius' ));\n",
    "        c=float(input('height' ));\n",
    "        vol=(22/7)*c*b**2;\n",
    "        print('Volume of Cylinder is  ',vol,'unit^3');\n",
    "    elif(a==5):\n",
    "        break;\n",
    "    else:\n",
    "        print('Enter invalid no. you press invalid key please press valid key');"
   ]
  },
  {
   "cell_type": "code",
   "execution_count": 115,
   "metadata": {},
   "outputs": [
    {
     "name": "stdout",
     "output_type": "stream",
     "text": [
      "Convert temperature in:-\n",
      "          1.Celsius to fahrenheit\n",
      "          2.fahrenheit to Celsius\n",
      "          3.Exit\n",
      "          press corresponding no. 2\n",
      "Enter temperature (in fahrenheit)99.0\n",
      "Conveted temperature (in Celsius) is  37.22222222222222 degree\n",
      "Convert temperature in:-\n",
      "          1.Celsius to fahrenheit\n",
      "          2.fahrenheit to Celsius\n",
      "          3.Exit\n",
      "          press corresponding no. 3\n"
     ]
    }
   ],
   "source": [
    "#6.WAP to convert temperature in celsius to fahrenheit or vice versa.\n",
    "while(1):\n",
    "    a=int(input('''Convert temperature in:-\n",
    "          1.Celsius to fahrenheit\n",
    "          2.fahrenheit to Celsius\n",
    "          3.Exit\n",
    "          press corresponding no. '''));\n",
    "    if(a==1):\n",
    "        b=float(input('Enter temperature (in Celsius)' ));\n",
    "        t=b*(9/5)+32;\n",
    "        print('Conveted temperature (in fahrenheit) is ',t,'degree');\n",
    "    elif(a==2):\n",
    "        b=float(input('Enter temperature (in fahrenheit)' ));\n",
    "        t=(b-32)*(5/9);\n",
    "        print('Conveted temperature (in Celsius) is ',t,'degree');\n",
    "    elif(a==3):\n",
    "            break;\n",
    "    else:\n",
    "            print('Enter invalid no. you press invalid key please press valid key');"
   ]
  },
  {
   "cell_type": "code",
   "execution_count": 9,
   "metadata": {},
   "outputs": [
    {
     "name": "stdout",
     "output_type": "stream",
     "text": [
      "Enter the no check if the no. is positive, negative, or zero 0\n",
      "The entered no. is zero  0\n"
     ]
    }
   ],
   "source": [
    "#7.WAP to check if the no. is positive, negative, or zero. \n",
    "a=input('Enter the no check if the no. is positive, negative, or zero ');\n",
    "if(a<'0'):\n",
    "    print('The entered no. is negetive ',a);\n",
    "elif(a>'0'):\n",
    "    print('The entered no. is positive ',a);\n",
    "else:\n",
    "    print('The entered no. is zero ',a);\n"
   ]
  },
  {
   "cell_type": "code",
   "execution_count": 2,
   "metadata": {},
   "outputs": [
    {
     "name": "stdout",
     "output_type": "stream",
     "text": [
      "Enter no. which you want table up to 10 2\n",
      " 2 X 0 = 0\n",
      " 2 X 1 = 2\n",
      " 2 X 2 = 4\n",
      " 2 X 3 = 6\n",
      " 2 X 4 = 8\n",
      " 2 X 5 = 10\n",
      " 2 X 6 = 12\n",
      " 2 X 7 = 14\n",
      " 2 X 8 = 16\n",
      " 2 X 9 = 18\n",
      " 2 X 10 = 20\n"
     ]
    }
   ],
   "source": [
    "#8.WAP to take a no. and prints its table up to 10.\n",
    "a=int(input('Enter no. which you want table up to 10 '));\n",
    "for i in range (11):\n",
    "    print('',a,'X',i,'=',a*i);\n"
   ]
  },
  {
   "cell_type": "code",
   "execution_count": 34,
   "metadata": {},
   "outputs": [
    {
     "name": "stdout",
     "output_type": "stream",
     "text": [
      "enter no. from there you want 1st 10 natural no.0\n",
      "  1\n",
      "  2\n",
      "  3\n",
      "  4\n",
      "  5\n",
      "  6\n",
      "  7\n",
      "  8\n",
      "  9\n",
      "  10\n"
     ]
    }
   ],
   "source": [
    "#9. WAP to print first 10 natural nos..\n",
    "a=(input('enter no. from there you want 1st 10 natural no. '));\n",
    "a=int(a);\n",
    "for i in range (0,10):\n",
    "    a=a+1;\n",
    "    print(' ',a);"
   ]
  },
  {
   "cell_type": "code",
   "execution_count": 10,
   "metadata": {},
   "outputs": [
    {
     "name": "stdout",
     "output_type": "stream",
     "text": [
      "Enter up to what you want natural no.0\n",
      "Sum of all this natural nos. is  0\n"
     ]
    }
   ],
   "source": [
    "#10. WAP to print n natural nos. and also print their sum.\n",
    "a=(input('Enter up to what you want natural no. '));\n",
    "a=int(a);\n",
    "s=0;\n",
    "for i in range (1,a+1):\n",
    "    print(' ',i);\n",
    "    s=s+i;\n",
    "print('Sum of all this natural nos. is ',s);"
   ]
  },
  {
   "cell_type": "code",
   "execution_count": 16,
   "metadata": {},
   "outputs": [
    {
     "name": "stdout",
     "output_type": "stream",
     "text": [
      "Enter a no. which you want to check whether a no. is odd or even6\n",
      "Entered no.  6.0 is even\n"
     ]
    }
   ],
   "source": [
    "#11. WAP to check whether a no. is odd or even.\n",
    "a=float(input('Enter a no. which you want to check whether a no. is odd or even ' ));\n",
    "if(a%2==0):\n",
    "    print('Entered no. ',a,'is even');\n",
    "else:\n",
    "    print('Entered no. ',a,'is odd');"
   ]
  },
  {
   "cell_type": "code",
   "execution_count": 24,
   "metadata": {},
   "outputs": [
    {
     "name": "stdout",
     "output_type": "stream",
     "text": [
      "Enter a no. which you want to check whether a no. is prime or not 91\n",
      "Entered no.  91 is not prime\n"
     ]
    }
   ],
   "source": [
    "#12. WAP to check whether a no. is prime  or not.\n",
    "a=int(input('Enter a no. which you want to check whether a no. is prime or not ' ));\n",
    "for i in range(2,a+1):\n",
    "    if(a%i==0):\n",
    "        break;\n",
    "if(a==i or a==1):\n",
    "    print('Entered no. ',a,'is prime');\n",
    "else:\n",
    "    print('Entered no. ',a,'is not prime');\n"
   ]
  },
  {
   "cell_type": "code",
   "execution_count": 56,
   "metadata": {},
   "outputs": [
    {
     "name": "stdout",
     "output_type": "stream",
     "text": [
      "Enter the no. which you want factorial 12\n",
      "Factorial of  12 is  479001600\n",
      " 12\n"
     ]
    }
   ],
   "source": [
    "#13. WAP to print the factorial of the no. .\n",
    "a=(int(input('Enter the no. which you want factorial ')));\n",
    "fact=1;\n",
    "b=a;\n",
    "if(b==0):\n",
    "    b=b+1;\n",
    "for i in range(1,b+1):\n",
    "    fact=fact*i;\n",
    "print('Factorial of ',a,'is ',fact);"
   ]
  },
  {
   "cell_type": "code",
   "execution_count": 13,
   "metadata": {},
   "outputs": [
    {
     "name": "stdout",
     "output_type": "stream",
     "text": [
      "No. 1234\n",
      "Sum of individual digits  10\n"
     ]
    }
   ],
   "source": [
    "#14. WAP to find the sum of digits of a given no. .\n",
    "x=int((input('No. ')));\n",
    "s=0;\n",
    "while(x):\n",
    "    s=s+(x%10);\n",
    "    x=int(x/10);\n",
    "print('Sum of individual digits ',s);"
   ]
  },
  {
   "cell_type": "code",
   "execution_count": 87,
   "metadata": {},
   "outputs": [
    {
     "name": "stdout",
     "output_type": "stream",
     "text": [
      "Enter no. 30\n",
      "  1\n",
      "  2\n",
      "  3\n",
      "  5\n",
      "  6\n",
      "  10\n",
      "  15\n"
     ]
    }
   ],
   "source": [
    "#15 WAP to enter any no. and print all the factors of the no. .\n",
    "a=int(input('Enter no. '));\n",
    "for i in range (1,a):\n",
    "    if(a%i==0):\n",
    "        print(' ',i);  "
   ]
  },
  {
   "cell_type": "code",
   "execution_count": 27,
   "metadata": {},
   "outputs": [
    {
     "name": "stdout",
     "output_type": "stream",
     "text": [
      "No.-1234\n",
      "No. is not palindrome\n"
     ]
    }
   ],
   "source": [
    "#16 WAP to check if the no. is Palindrome or not .\n",
    "a=int(input('No.'));\n",
    "rev=0;\n",
    "b=a;\n",
    "while(b):\n",
    "    rev=(rev*10)+(b%10);\n",
    "    b=int(b/10);\n",
    "if(rev==a):\n",
    "    print('No. is palindrome');\n",
    "else:\n",
    "    print('No. is not palindrome');"
   ]
  },
  {
   "cell_type": "code",
   "execution_count": 66,
   "metadata": {},
   "outputs": [
    {
     "name": "stdout",
     "output_type": "stream",
     "text": [
      "No.1\n",
      "No. is Armstrong\n"
     ]
    }
   ],
   "source": [
    "#17 WAP to check if the no. is Armstrong or not .\n",
    "a=int(input('No.'));\n",
    "s=0;\n",
    "b=a;\n",
    "c=a;\n",
    "x=0;\n",
    "while(b):\n",
    "    b=int(b/10);\n",
    "    x=x+1;\n",
    "while(c):\n",
    "    s=int(s+(c%10)**x);\n",
    "    c=int(c/10);\n",
    "if(s==a):\n",
    "    print('No. is Armstrong');\n",
    "else:\n",
    "    print('No. is not Armstrong');"
   ]
  },
  {
   "cell_type": "code",
   "execution_count": 1,
   "metadata": {},
   "outputs": [
    {
     "name": "stdout",
     "output_type": "stream",
     "text": [
      "Enter year 1800\n",
      "This year is not leap year\n"
     ]
    }
   ],
   "source": [
    "#18 WAP to check if the year is leap year or not .\n",
    "def is_leap(year):\n",
    "    if(1500<=year<=10**5):\n",
    "        if((year%100!=0 or year%400==0) and (year%4==0)):\n",
    "            return (True);\n",
    "        else:\n",
    "            return (False);\n",
    "year = int(input('Enter year '))\n",
    "if(is_leap(year)==True):\n",
    "    print(\"This year is leap year\");\n",
    "else:\n",
    "    print(\"This year is not leap year\");"
   ]
  },
  {
   "cell_type": "code",
   "execution_count": 28,
   "metadata": {},
   "outputs": [
    {
     "name": "stdout",
     "output_type": "stream",
     "text": [
      " 1\n",
      " 2\n",
      " 3\n",
      " 5\n",
      " 7\n",
      " 11\n",
      " 13\n",
      " 17\n",
      " 19\n",
      " 23\n",
      " 29\n",
      " 31\n",
      " 37\n",
      " 41\n",
      " 43\n",
      " 47\n",
      " 53\n",
      " 59\n",
      " 61\n",
      " 67\n",
      " 71\n",
      " 73\n",
      " 79\n",
      " 83\n",
      " 89\n",
      " 97\n",
      "sum of all these are  1061\n"
     ]
    }
   ],
   "source": [
    "#19 WAP to print all the prime numbers between 1-100 and also find their sum .\n",
    "a=100;\n",
    "s=1;\n",
    "for i in range (1,a+1):\n",
    "    if(i==1):\n",
    "        print('',i)\n",
    "    for j in range (2,i+1):\n",
    "        if(i%j==0 and i==j):\n",
    "            print('',i);\n",
    "            s=s+i;\n",
    "        elif((i%j==0 and i!=j)):\n",
    "            break;\n",
    "print('sum of all these are ',s)"
   ]
  },
  {
   "cell_type": "code",
   "execution_count": 7,
   "metadata": {},
   "outputs": [
    {
     "name": "stdout",
     "output_type": "stream",
     "text": [
      "no. 1234\n",
      "sum of even digit in your no.  1234 is  6 and sum of odds  4\n"
     ]
    }
   ],
   "source": [
    "#20 WAP to take an input number from the user and find the sum of its even digits and odd digits .\n",
    "a=int(input('no. '));\n",
    "b=a;\n",
    "c,even,odd=0,0,0;\n",
    "for i in range (b):\n",
    "    c=b%10;\n",
    "    if(c%2==0):\n",
    "        even=even+c;\n",
    "    else:\n",
    "        odd=odd+c;\n",
    "    b=int(b/10);\n",
    "print('sum of even digit in your no. ',a,'is ',even,'and sum of odds ',odd);"
   ]
  },
  {
   "cell_type": "code",
   "execution_count": 16,
   "metadata": {},
   "outputs": [
    {
     "name": "stdout",
     "output_type": "stream",
     "text": [
      "1st. no. 24\n",
      "2nd. no. 36\n",
      " 12\n"
     ]
    }
   ],
   "source": [
    "#21 WAP to find the HCF/GCF of two number.\n",
    "a=int(input('1st. no. '));\n",
    "b=int(input('2nd. no. '));\n",
    "c=a+1;\n",
    "d=b+1;\n",
    "for i in range (1,c or d):\n",
    "    if(a%i==0):\n",
    "        if(b%i==0):\n",
    "            hcf=i;\n",
    "print('',hcf);"
   ]
  },
  {
   "cell_type": "code",
   "execution_count": 14,
   "metadata": {},
   "outputs": [
    {
     "name": "stdout",
     "output_type": "stream",
     "text": [
      "Enter the no. which you want factorial 0\n",
      "Factorial of  0 is  1\n"
     ]
    }
   ],
   "source": [
    "#22 WAP to find the factorial of a no. .\n",
    "a=(int(input('Enter the no. which you want factorial ')));\n",
    "fact=1;\n",
    "b=a;\n",
    "if(b==0):\n",
    "    b=b+1;\n",
    "for i in range(1,b+1):\n",
    "    fact=fact*i;\n",
    "print('Factorial of ',a,'is ',fact);"
   ]
  },
  {
   "cell_type": "code",
   "execution_count": 1,
   "metadata": {},
   "outputs": [
    {
     "name": "stdout",
     "output_type": "stream",
     "text": [
      " 6\n",
      " 12\n",
      " 18\n",
      " 24\n",
      " 30\n",
      " 36\n",
      " 42\n",
      " 48\n",
      " 54\n",
      " 60\n",
      " 66\n",
      " 72\n",
      " 78\n",
      " 84\n",
      " 90\n",
      " 96\n"
     ]
    }
   ],
   "source": [
    "#23 WAP to print all the common multiples of 2 and 3 from 1 to 100.\n",
    "i=1;\n",
    "while(i):\n",
    "    cm=2*3*i;\n",
    "    if(cm>=100):\n",
    "        break;\n",
    "    print('',cm);\n",
    "    i=i+1;"
   ]
  },
  {
   "cell_type": "code",
   "execution_count": 45,
   "metadata": {},
   "outputs": [
    {
     "name": "stdout",
     "output_type": "stream",
     "text": [
      " 30\n",
      " 60\n",
      " 90\n"
     ]
    }
   ],
   "source": [
    "#24 WAP to print all the multiples of 2, 3 and 5 between 1 to 100.\n",
    "for i in range (1,100):\n",
    "    cm=2*3*5*i;\n",
    "    if(cm>=100):\n",
    "        break;\n",
    "    print('',cm);"
   ]
  },
  {
   "cell_type": "code",
   "execution_count": 49,
   "metadata": {},
   "outputs": [
    {
     "name": "stdout",
     "output_type": "stream",
     "text": [
      "  0\n",
      "  1\n",
      "  1\n",
      "  2\n",
      "  3\n",
      "  5\n",
      "  8\n",
      "  13\n",
      "  21\n",
      "  34\n"
     ]
    }
   ],
   "source": [
    "#25 WAP to print the fibonacci series up to 10 terms.\n",
    "a,b=0,1;\n",
    "for i in range(0,10):\n",
    "    print(' ',a)\n",
    "    c=a+b;\n",
    "    a,b=b,c; "
   ]
  },
  {
   "cell_type": "code",
   "execution_count": 53,
   "metadata": {},
   "outputs": [
    {
     "name": "stdout",
     "output_type": "stream",
     "text": [
      "Your birth year 1998\n",
      "Current year 2020\n",
      "Your age is  22\n"
     ]
    }
   ],
   "source": [
    "#26 WAP to take the birth year of the user and print its present age.\n",
    "a=int(input('Your birth year '));\n",
    "b=int(input('Current year '));\n",
    "if(b<a):\n",
    "    print('You are in past/inputs are wrong');\n",
    "else:\n",
    "    age=b-a;\n",
    "    print('Your age is ',age)"
   ]
  },
  {
   "cell_type": "code",
   "execution_count": null,
   "metadata": {},
   "outputs": [],
   "source": []
  }
 ],
 "metadata": {
  "kernelspec": {
   "display_name": "Python 3",
   "language": "python",
   "name": "python3"
  },
  "language_info": {
   "codemirror_mode": {
    "name": "ipython",
    "version": 3
   },
   "file_extension": ".py",
   "mimetype": "text/x-python",
   "name": "python",
   "nbconvert_exporter": "python",
   "pygments_lexer": "ipython3",
   "version": "3.7.4"
  }
 },
 "nbformat": 4,
 "nbformat_minor": 2
}
