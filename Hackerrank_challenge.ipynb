{
 "cells": [
  {
   "cell_type": "code",
   "execution_count": 36,
   "metadata": {},
   "outputs": [
    {
     "name": "stdout",
     "output_type": "stream",
     "text": [
      "1\n",
      "Weird\n"
     ]
    }
   ],
   "source": [
    "n=int(input(''));\n",
    "if(1<=n<=100):\n",
    "    if((n%2==1) or (n%2==0 and 6<=n<=20) or (n==1)):\n",
    "        print('Weird');\n",
    "    elif((n%2==0 and 2<=n<6) or (n>20)):\n",
    "        print('Not Weird');\n",
    "else:\n",
    "    print('Invalid input please give input between 1 to 100')"
   ]
  },
  {
   "cell_type": "code",
   "execution_count": 51,
   "metadata": {},
   "outputs": [
    {
     "name": "stdout",
     "output_type": "stream",
     "text": [
      "3\n",
      "2\n",
      "5\n",
      "1\n",
      "6\n"
     ]
    }
   ],
   "source": [
    "a=int(input(''));\n",
    "b=int(input(''));\n",
    "if((1<=a<=10**10) and (1<=b<=10**10)):\n",
    "    print(a+b);\n",
    "    print(a-b);\n",
    "    print(a*b);\n",
    "else:\n",
    "    print('Please enter both in range of 1<=a,b<=10^10');"
   ]
  },
  {
   "cell_type": "code",
   "execution_count": 52,
   "metadata": {},
   "outputs": [
    {
     "name": "stdout",
     "output_type": "stream",
     "text": [
      "4\n",
      "3\n",
      "1\n",
      "1.3333333333333333\n"
     ]
    }
   ],
   "source": [
    "a=int(input(''));\n",
    "b=int(input(''));\n",
    "print(a//b);\n",
    "print(a/b);"
   ]
  },
  {
   "cell_type": "code",
   "execution_count": 66,
   "metadata": {},
   "outputs": [
    {
     "name": "stdout",
     "output_type": "stream",
     "text": [
      "5\n",
      "0\n",
      "1\n",
      "4\n",
      "9\n",
      "16\n"
     ]
    }
   ],
   "source": [
    "N=int(input(''));\n",
    "if(1<=N<=20):\n",
    "    for i in range (N):\n",
    "        print(i*i);\n",
    "else:\n",
    "    print('Please enter in range of 1<=n<=20');"
   ]
  },
  {
   "cell_type": "code",
   "execution_count": 34,
   "metadata": {},
   "outputs": [
    {
     "name": "stdout",
     "output_type": "stream",
     "text": [
      "1900\n",
      "False\n"
     ]
    }
   ],
   "source": [
    "def is_leap(year):\n",
    "    if(1900<=year<=10**5):\n",
    "        if((year%100!=0 or year%400==0) and (year%4==0)):\n",
    "            return (True);\n",
    "        else:\n",
    "            return (False);\n",
    "year = int(input())\n",
    "print(is_leap(year))"
   ]
  },
  {
   "cell_type": "code",
   "execution_count": 31,
   "metadata": {},
   "outputs": [
    {
     "name": "stdout",
     "output_type": "stream",
     "text": [
      "3\n",
      "123"
     ]
    }
   ],
   "source": [
    "N=int(input());\n",
    "for i in range (1,N+1):\n",
    "    print(i,end='');"
   ]
  },
  {
   "cell_type": "code",
   "execution_count": 11,
   "metadata": {},
   "outputs": [
    {
     "name": "stdout",
     "output_type": "stream",
     "text": [
      "9\n",
      "1 2 3 4 5 6 7 8 9\n",
      "9\n",
      "10 1 2 3 11 21 55 6 8\n",
      "8\n"
     ]
    }
   ],
   "source": [
    "a=int(input());\n",
    "x=set([int(x) for x in input().split(' ')]);\n",
    "b=int(input());\n",
    "y=set([int(y) for y in input().split(' ')]);\n",
    "count=0;\n",
    "z=set(x^y);\n",
    "for i in z:\n",
    "    count=count+1;\n",
    "print(count);"
   ]
  },
  {
   "cell_type": "code",
   "execution_count": 15,
   "metadata": {},
   "outputs": [
    {
     "name": "stdout",
     "output_type": "stream",
     "text": [
      "1\n",
      "1\n",
      "1\n",
      "2\n",
      "[[0, 0, 0], [0, 0, 1], [0, 1, 0], [1, 0, 0], [1, 1, 1]]\n"
     ]
    }
   ],
   "source": [
    "X=int(input());\n",
    "Y=int(input());\n",
    "Z=int(input());\n",
    "N=int(input());\n",
    "b=[];\n",
    "for i in range (0,X+1):\n",
    "    for j in range (0,Y+1):\n",
    "        for k in range (0,Z+1):\n",
    "            if(i+j+k!=N):\n",
    "                a=[i,j,k];\n",
    "                b.append(a);\n",
    "print(b);"
   ]
  },
  {
   "cell_type": "markdown",
   "metadata": {},
   "source": []
  },
  {
   "cell_type": "code",
   "execution_count": 24,
   "metadata": {},
   "outputs": [
    {
     "name": "stdout",
     "output_type": "stream",
     "text": [
      "4\n",
      "1 -1 -2 -1\n",
      "-1\n"
     ]
    }
   ],
   "source": [
    "n=int(input());\n",
    "A=list([int(x) for x in input().split(' ')]);\n",
    "A.sort();\n",
    "b=A[0];\n",
    "for i in A:\n",
    "    if(b<i):\n",
    "        c=b;\n",
    "        b=i;\n",
    "print(c)"
   ]
  },
  {
   "cell_type": "code",
   "execution_count": 2,
   "metadata": {},
   "outputs": [
    {
     "name": "stdout",
     "output_type": "stream",
     "text": [
      "5\n",
      "harsh\n",
      "20\n",
      "beria\n",
      "20\n",
      "varun\n",
      "19\n",
      "kakunami\n",
      "19\n",
      "vikas\n",
      "21\n",
      "beria\n",
      "harsh\n"
     ]
    }
   ],
   "source": [
    "N=int(input());\n",
    "b=[];\n",
    "for i in range(1,N+1):\n",
    "    x=str(input(''));\n",
    "    y=float(input());\n",
    "    a=[y,x];\n",
    "    b.append(a);\n",
    "    b.sort();\n",
    "for l in b:\n",
    "    c=l;\n",
    "    break;\n",
    "for j in b:\n",
    "    if(c[0]<j[0]):\n",
    "        c=j;\n",
    "        break;\n",
    "for k in b:\n",
    "    if(c[0]==k[0]):\n",
    "        print(k[1]);"
   ]
  },
  {
   "cell_type": "code",
   "execution_count": 20,
   "metadata": {},
   "outputs": [
    {
     "name": "stdout",
     "output_type": "stream",
     "text": [
      "2\n",
      "harsh 25 26.5 28\n",
      "anurag 26 28 30\n",
      "harsh\n",
      "26.50\n"
     ]
    }
   ],
   "source": [
    "N=int(input());\n",
    "st={};\n",
    "for i in range (0,N):\n",
    "    x=list([str(x) for x in input().split(' ')]);\n",
    "    key=x[0];\n",
    "    sum=0;\n",
    "    for j in x:\n",
    "        if(j!=key):\n",
    "            j=float(j);\n",
    "            sum=sum+j;\n",
    "    avg=(sum/3);\n",
    "    st.update({key:avg});\n",
    "y=input('');\n",
    "print(\"%.2f\" % st.get(y))"
   ]
  },
  {
   "cell_type": "code",
   "execution_count": 41,
   "metadata": {},
   "outputs": [
    {
     "name": "stdout",
     "output_type": "stream",
     "text": [
      "5\n",
      "    H    \n",
      "   HHH   \n",
      "  HHHHH  \n",
      " HHHHHHH \n",
      "HHHHHHHHH\n",
      "  HHHHH               HHHHH             \n",
      "  HHHHH               HHHHH             \n",
      "  HHHHH               HHHHH             \n",
      "  HHHHH               HHHHH             \n",
      "  HHHHH               HHHHH             \n",
      "  HHHHH               HHHHH             \n",
      "  HHHHHHHHHHHHHHHHHHHHHHHHH   \n",
      "  HHHHHHHHHHHHHHHHHHHHHHHHH   \n",
      "  HHHHHHHHHHHHHHHHHHHHHHHHH   \n",
      "  HHHHH               HHHHH             \n",
      "  HHHHH               HHHHH             \n",
      "  HHHHH               HHHHH             \n",
      "  HHHHH               HHHHH             \n",
      "  HHHHH               HHHHH             \n",
      "  HHHHH               HHHHH             \n",
      "                    HHHHHHHHH \n",
      "                     HHHHHHH  \n",
      "                      HHHHH   \n",
      "                       HHH    \n",
      "                        H     \n"
     ]
    }
   ],
   "source": [
    "#Replace all ______ with rjust, ljust or center. \n",
    "\n",
    "thickness = int(input()) #This must be an odd number\n",
    "c = 'H'\n",
    "\n",
    "#Top Cone\n",
    "for i in range(thickness):\n",
    "    print((c*i).rjust(thickness-1)+c+(c*i).ljust(thickness-1))\n",
    "\n",
    "#Top Pillars\n",
    "for i in range(thickness+1):\n",
    "    print((c*thickness).center(thickness*2)+(c*thickness).center(thickness*6))\n",
    "\n",
    "#Middle Belt\n",
    "for i in range((thickness+1)//2):\n",
    "    print((c*thickness*5).center(thickness*6))    \n",
    "\n",
    "#Bottom Pillars\n",
    "for i in range(thickness+1):\n",
    "    print((c*thickness).center(thickness*2)+(c*thickness).center(thickness*6))    \n",
    "\n",
    "#Bottom Cone\n",
    "for i in range(thickness):\n",
    "    print(((c*(thickness-i-1)).rjust(thickness)+c+(c*(thickness-i-1)).ljust(thickness)).rjust(thickness*6))"
   ]
  },
  {
   "cell_type": "code",
   "execution_count": 46,
   "metadata": {},
   "outputs": [
    {
     "name": "stdout",
     "output_type": "stream",
     "text": [
      "asdfghjklqwertyuiop\n",
      "3\n",
      "asd\n",
      "fgh\n",
      "jkl\n",
      "qwe\n",
      "rty\n",
      "uio\n",
      "p\n"
     ]
    }
   ],
   "source": [
    "import textwrap\n",
    "x=input('');\n",
    "w=int(input());\n",
    "for i in textwrap.wrap(x,w):\n",
    "    print(i);"
   ]
  },
  {
   "cell_type": "code",
   "execution_count": 72,
   "metadata": {},
   "outputs": [
    {
     "name": "stdout",
     "output_type": "stream",
     "text": [
      "asdfghjklqwertyuio\n",
      "4\n",
      "asdf\n",
      "ghjk\n",
      "lqwe\n",
      "rtyu\n",
      "io\n"
     ]
    }
   ],
   "source": [
    "import textwrap\n",
    "\n",
    "def wrap(string, max_width):\n",
    "    for i in textwrap.wrap(string, max_width):\n",
    "        x=i;\n",
    "    for i in textwrap.wrap(string, max_width):\n",
    "        if(i!=x):\n",
    "            print(i);\n",
    "        else:\n",
    "            return(i);\n",
    "\n",
    "if __name__ == '__main__':\n",
    "    string, max_width = input(), int(input())\n",
    "    result = wrap(string, max_width)\n",
    "    print(result)"
   ]
  },
  {
   "cell_type": "code",
   "execution_count": 146,
   "metadata": {},
   "outputs": [
    {
     "name": "stdout",
     "output_type": "stream",
     "text": [
      "11 33\n",
      "---------------.|.---------------\n",
      "------------.|..|..|.------------\n",
      "---------.|..|..|..|..|.---------\n",
      "------.|..|..|..|..|..|..|.------\n",
      "---.|..|..|..|..|..|..|..|..|.---\n",
      "-------------WELCOME-------------\n",
      "---.|..|..|..|..|..|..|..|..|.---\n",
      "------.|..|..|..|..|..|..|.------\n",
      "---------.|..|..|..|..|.---------\n",
      "------------.|..|..|.------------\n",
      "---------------.|.---------------\n"
     ]
    }
   ],
   "source": [
    "x=list([int(x) for x in input().split(' ')]);\n",
    "n=x[0];\n",
    "m=x[1]\n",
    "c='-';\n",
    "d='.|.';\n",
    "e='WELCOME';\n",
    "for i in range(1,n):\n",
    "    if(i%2!=0):\n",
    "        print((d*i).center(m,c));\n",
    "print((e).center(m,c));\n",
    "for j in range(1,n):\n",
    "    if(j%2!=0):\n",
    "        print((d*(n-j-1)).center(m,c));"
   ]
  },
  {
   "cell_type": "code",
   "execution_count": 187,
   "metadata": {},
   "outputs": [
    {
     "name": "stdout",
     "output_type": "stream",
     "text": [
      "9\n",
      "   1    1    1    1\n",
      "   2    2    2   10\n",
      "   3    3    3   11\n",
      "   4    4    4  100\n",
      "   5    5    5  101\n",
      "   6    6    6  110\n",
      "   7    7    7  111\n",
      "   8   10    8 1000\n",
      "   9   11    9 1001\n"
     ]
    }
   ],
   "source": [
    "def print_formatted(number):\n",
    "    x=number;\n",
    "    count=0;\n",
    "    z=str(bin(x).lstrip('0b'))\n",
    "    for j in z:\n",
    "        count=count+1;\n",
    "    for i in range (1,x+1):\n",
    "        print((str(i)).rjust(count),(str(oct(i).lstrip('0o'))).rjust(count),(str.upper(hex(i).lstrip('0x'))).rjust(count),(str(bin(i).lstrip('0b'))).rjust(count));\n",
    "if __name__ == '__main__':\n",
    "    n = int(input())\n",
    "    print_formatted(n)"
   ]
  },
  {
   "cell_type": "code",
   "execution_count": 195,
   "metadata": {},
   "outputs": [
    {
     "name": "stdout",
     "output_type": "stream",
     "text": [
      "5 15\n",
      "------.|.------\n",
      "---.|..|..|.---\n",
      "----WELCOME----\n",
      "---.|..|..|.---\n",
      "------.|.------\n"
     ]
    }
   ],
   "source": [
    "x=list([int(x) for x in input().split(' ')]);\n",
    "n=x[0];\n",
    "m=x[1]\n",
    "c='-';\n",
    "d='.|.';\n",
    "e='WELCOME';\n",
    "for i in range(1,n):\n",
    "    if(i%2!=0):\n",
    "        print((d*i).center(m,c));\n",
    "print((e).center(m,c));\n",
    "for j in range(1,n):\n",
    "    if(j%2!=0):\n",
    "        print((d*(n-j-1)).center(m,c));"
   ]
  },
  {
   "cell_type": "code",
   "execution_count": 26,
   "metadata": {},
   "outputs": [
    {
     "name": "stdout",
     "output_type": "stream",
     "text": [
      "12\n",
      "insert 0 5\n",
      "insert 1 10\n",
      "insert 0 6\n",
      "print\n",
      "[6, 5, 10]\n",
      "remove 6\n",
      "append 9\n",
      "append 1\n",
      "sort\n",
      "print\n",
      "[1, 5, 9, 10]\n",
      "pop\n",
      "reverse\n",
      "print\n",
      "[9, 5, 1]\n"
     ]
    }
   ],
   "source": [
    "#Lists------\n",
    "l=[];\n",
    "x=int(input(''));\n",
    "count=0;\n",
    "for i in range(0,x):\n",
    "    a=list([str(a) for a in input().split(' ')]);\n",
    "    if(a[0]=='insert'):\n",
    "        l.insert(int(a[1]),int(a[2]));\n",
    "    elif(a[0]=='print'):\n",
    "        print(l);\n",
    "    elif(a[0]=='remove'):\n",
    "        l.remove(int(a[1]));\n",
    "    elif(a[0]=='append'):\n",
    "        l.append(int(a[1]));\n",
    "    elif(a[0]=='sort'):\n",
    "        l.sort();\n",
    "    elif(a[0]=='pop'):\n",
    "        for i in l:\n",
    "            count=count+1;\n",
    "        l.pop(count-1);\n",
    "    elif(a[0]=='reverse'):\n",
    "        l.reverse()\n",
    "    a.clear();"
   ]
  },
  {
   "cell_type": "code",
   "execution_count": 37,
   "metadata": {},
   "outputs": [
    {
     "name": "stdout",
     "output_type": "stream",
     "text": [
      "2\n",
      "1 2\n",
      "3713081631934410656\n"
     ]
    }
   ],
   "source": [
    "#tuples-----\n",
    "'''Task\n",
    "Given an integer, , and  space-separated integers as input, create a tuple, , of those  integers. Then compute and print the result of .\n",
    "\n",
    "Note: hash() is one of the functions in the __builtins__ module, so it need not be imported.\n",
    "\n",
    "Input Format\n",
    "\n",
    "The first line contains an integer, , denoting the number of elements in the tuple.\n",
    "The second line contains  space-separated integers describing the elements in tuple .\n",
    "\n",
    "Output Format\n",
    "\n",
    "Print the result of .\n",
    "\n",
    "Sample Input 0\n",
    "\n",
    "2\n",
    "1 2\n",
    "Sample Output 0\n",
    "\n",
    "3713081631934410656'''\n",
    "\n",
    "\n",
    "\n",
    "b=int(input());\n",
    "t=tuple(int(b) for b in input().split(' '));\n",
    "print(hash(t));"
   ]
  },
  {
   "cell_type": "code",
   "execution_count": 39,
   "metadata": {},
   "outputs": [
    {
     "name": "stdout",
     "output_type": "stream",
     "text": [
      "0 1\n",
      "2 3\n",
      "3\n",
      "[[0 0]\n",
      " [2 3]]\n"
     ]
    }
   ],
   "source": [
    "#innter and outer \n",
    "'''\n",
    "inner\n",
    "\n",
    "The inner tool returns the inner product of two arrays.\n",
    "\n",
    "import numpy\n",
    "\n",
    "A = numpy.array([0, 1])\n",
    "B = numpy.array([3, 4])\n",
    "\n",
    "print numpy.inner(A, B)     #Output : 4\n",
    "outer\n",
    "\n",
    "The outer tool returns the outer product of two arrays.\n",
    "\n",
    "import numpy\n",
    "\n",
    "A = numpy.array([0, 1])\n",
    "B = numpy.array([3, 4])\n",
    "\n",
    "print numpy.outer(A, B)     #Output : [[0 0]\n",
    "                            #          [3 4]]\n",
    "Task\n",
    "\n",
    "You are given two arrays:  and .\n",
    "Your task is to compute their inner and outer product.\n",
    "\n",
    "Input Format\n",
    "\n",
    "The first line contains the space separated elements of array .\n",
    "The second line contains the space separated elements of array .\n",
    "\n",
    "Output Format\n",
    "\n",
    "First, print the inner product.\n",
    "Second, print the outer product.\n",
    "\n",
    "Sample Input\n",
    "\n",
    "0 1\n",
    "2 3\n",
    "Sample Output\n",
    "\n",
    "3\n",
    "[[0 0]\n",
    " [2 3]]\n",
    "'''\n",
    "\n",
    "import numpy as np\n",
    "a=list([int(a) for a in input().split(' ')]);\n",
    "b=list([int(b) for b in input().split(' ')]);\n",
    "print(np.inner(a,b));\n",
    "print(np.outer(a,b));"
   ]
  },
  {
   "cell_type": "code",
   "execution_count": 41,
   "metadata": {},
   "outputs": [
    {
     "name": "stdout",
     "output_type": "stream",
     "text": [
      "1.1 2 3\n",
      "0\n",
      "3.0\n"
     ]
    }
   ],
   "source": [
    "#polynomials\n",
    "'''\n",
    "\n",
    "poly\n",
    "\n",
    "The poly tool returns the coefficients of a polynomial with the given sequence of roots.\n",
    "\n",
    "print numpy.poly([-1, 1, 1, 10])        #Output : [  1 -11   9  11 -10]\n",
    "roots\n",
    "\n",
    "The roots tool returns the roots of a polynomial with the given coefficients.\n",
    "\n",
    "print numpy.roots([1, 0, -1])           #Output : [-1.  1.]\n",
    "polyint\n",
    "\n",
    "The polyint tool returns an antiderivative (indefinite integral) of a polynomial.\n",
    "\n",
    "print numpy.polyint([1, 1, 1])          #Output : [ 0.33333333  0.5         1.          0.        ]\n",
    "polyder\n",
    "\n",
    "The polyder tool returns the derivative of the specified order of a polynomial.\n",
    "\n",
    "print numpy.polyder([1, 1, 1, 1])       #Output : [3 2 1]\n",
    "polyval\n",
    "\n",
    "The polyval tool evaluates the polynomial at specific value.\n",
    "\n",
    "print numpy.polyval([1, -2, 0, 2], 4)   #Output : 34\n",
    "polyfit\n",
    "\n",
    "The polyfit tool fits a polynomial of a specified order to a set of data using a least-squares approach.\n",
    "\n",
    "print numpy.polyfit([0,1,-1, 2, -2], [0,1,1, 4, 4], 2)\n",
    "#Output : [  1.00000000e+00   0.00000000e+00  -3.97205465e-16]\n",
    "The functions polyadd, polysub, polymul, and polydiv also handle proper addition, subtraction, multiplication, and division of polynomial coefficients, respectively.\n",
    "\n",
    "Task\n",
    "\n",
    "You are given the coefficients of a polynomial .\n",
    "Your task is to find the value of  at point .\n",
    "\n",
    "Input Format\n",
    "\n",
    "The first line contains the space separated value of the coefficients in .\n",
    "The second line contains the value of .\n",
    "\n",
    "Output Format\n",
    "\n",
    "Print the desired value.\n",
    "\n",
    "Sample Input\n",
    "\n",
    "1.1 2 3\n",
    "0\n",
    "Sample Output\n",
    "\n",
    "3.0\n",
    "\n",
    "'''\n",
    "import numpy as np\n",
    "a= list([float(a) for a in input().split(' ')]);\n",
    "b=float(input());\n",
    "print(np.polyval(a,b));\n",
    "\n",
    "\n",
    "\n",
    "\n"
   ]
  },
  {
   "cell_type": "code",
   "execution_count": 56,
   "metadata": {},
   "outputs": [
    {
     "name": "stdout",
     "output_type": "stream",
     "text": [
      "2\n",
      "1.1 1.1\n",
      "1.1 1.2\n",
      "0.11\n"
     ]
    }
   ],
   "source": [
    "#linear algebra\n",
    "\n",
    "'''\n",
    "The NumPy module also comes with a number of built-in routines for linear algebra calculations. These can be found in the sub-module linalg.\n",
    "\n",
    "linalg.det\n",
    "\n",
    "The linalg.det tool computes the determinant of an array.\n",
    "\n",
    "print numpy.linalg.det([[1 , 2], [2, 1]])       #Output : -3.0\n",
    "linalg.eig\n",
    "\n",
    "The linalg.eig computes the eigenvalues and right eigenvectors of a square array.\n",
    "\n",
    "vals, vecs = numpy.linalg.eig([[1 , 2], [2, 1]])\n",
    "print vals                                      #Output : [ 3. -1.]\n",
    "print vecs                                      #Output : [[ 0.70710678 -0.70710678]\n",
    "                                                #          [ 0.70710678  0.70710678]]\n",
    "linalg.inv\n",
    "\n",
    "The linalg.inv tool computes the (multiplicative) inverse of a matrix.\n",
    "\n",
    "print numpy.linalg.inv([[1 , 2], [2, 1]])       #Output : [[-0.33333333  0.66666667]\n",
    "                                                #          [ 0.66666667 -0.33333333]]\n",
    "Other routines can be found here\n",
    "\n",
    "Task\n",
    "\n",
    "You are given a square matrix  with dimensions X. Your task is to find the determinant. Note: Round the answer to 2 places after the decimal.\n",
    "\n",
    "Input Format\n",
    "\n",
    "The first line contains the integer .\n",
    "The next  lines contains the N space separated elements of array .\n",
    "\n",
    "Output Format\n",
    "\n",
    "Print the determinant of .\n",
    "\n",
    "Sample Input\n",
    "\n",
    "2\n",
    "1.1 1.1\n",
    "1.1 1.1\n",
    "Sample Output\n",
    "\n",
    "0.0\n",
    "\n",
    "'''\n",
    "a=int(input());\n",
    "c=[];\n",
    "for i in range(0,a):\n",
    "    b=list([float(b) for b in input().split(' ')]);\n",
    "    c.append(b);\n",
    "d=np.linalg.det(c)\n",
    "print(round(d,10));\n",
    "#print(c);"
   ]
  },
  {
   "cell_type": "code",
   "execution_count": 58,
   "metadata": {},
   "outputs": [
    {
     "name": "stdout",
     "output_type": "stream",
     "text": [
      "3\n",
      "ajbs ajbsjs\n",
      "jbds\n",
      "js\n"
     ]
    },
    {
     "ename": "ParseError",
     "evalue": "syntax error: line 1, column 0 (<string>)",
     "output_type": "error",
     "traceback": [
      "Traceback \u001b[1;36m(most recent call last)\u001b[0m:\n",
      "  File \u001b[0;32m\"C:\\Users\\Lenovo\\Anaconda3\\lib\\site-packages\\IPython\\core\\interactiveshell.py\"\u001b[0m, line \u001b[0;32m3326\u001b[0m, in \u001b[0;35mrun_code\u001b[0m\n    exec(code_obj, self.user_global_ns, self.user_ns)\n",
      "  File \u001b[0;32m\"<ipython-input-58-ac7ae77d5663>\"\u001b[0m, line \u001b[0;32m43\u001b[0m, in \u001b[0;35m<module>\u001b[0m\n    tree = etree.ElementTree(etree.fromstring(xml))\n",
      "\u001b[1;36m  File \u001b[1;32m\"C:\\Users\\Lenovo\\Anaconda3\\lib\\xml\\etree\\ElementTree.py\"\u001b[1;36m, line \u001b[1;32m1315\u001b[1;36m, in \u001b[1;35mXML\u001b[1;36m\u001b[0m\n\u001b[1;33m    parser.feed(text)\u001b[0m\n",
      "\u001b[1;36m  File \u001b[1;32m\"<string>\"\u001b[1;36m, line \u001b[1;32munknown\u001b[0m\n\u001b[1;31mParseError\u001b[0m\u001b[1;31m:\u001b[0m syntax error: line 1, column 0\n"
     ]
    }
   ],
   "source": [
    "#sock merchant\n",
    "'''\n",
    "John works at a clothing store. He has a large pile of socks that he must pair by color for sale. Given an array of integers representing the color of each sock, determine how many pairs of socks with matching colors there are.\n",
    "\n",
    "For example, there are  socks with colors . There is one pair of color  and one of color . There are three odd socks left, one of each color. The number of pairs is .\n",
    "\n",
    "Function Description\n",
    "\n",
    "Complete the sockMerchant function in the editor below. It must return an integer representing the number of matching pairs of socks that are available.\n",
    "\n",
    "sockMerchant has the following parameter(s):\n",
    "\n",
    "n: the number of socks in the pile\n",
    "ar: the colors of each sock\n",
    "Input Format\n",
    "\n",
    "The first line contains an integer , the number of socks represented in .\n",
    "The second line contains  space-separated integers describing the colors  of the socks in the pile.\n",
    "\n",
    "Constraints\n",
    "\n",
    " where \n",
    "Output Format\n",
    "\n",
    "Return the total number of matching pairs of socks that John can sell.\n",
    "\n",
    "Sample Input\n",
    "\n",
    "9\n",
    "10 20 20 10 10 30 50 10 20\n",
    "Sample Output\n",
    "\n",
    "3\n",
    "Explanation\n",
    "\n",
    "sock.png\n",
    "'''\n",
    "n=int(input());\n",
    "ar=list([int(ar) for n in input().split(' ')]);\n",
    "ar.sort();\n",
    "h=ar[0];\n",
    "for i in ar:\n",
    "    #........still in progress......"
   ]
  },
  {
   "cell_type": "code",
   "execution_count": null,
   "metadata": {},
   "outputs": [],
   "source": []
  }
 ],
 "metadata": {
  "kernelspec": {
   "display_name": "Python 3",
   "language": "python",
   "name": "python3"
  },
  "language_info": {
   "codemirror_mode": {
    "name": "ipython",
    "version": 3
   },
   "file_extension": ".py",
   "mimetype": "text/x-python",
   "name": "python",
   "nbconvert_exporter": "python",
   "pygments_lexer": "ipython3",
   "version": "3.7.4"
  }
 },
 "nbformat": 4,
 "nbformat_minor": 2
}
