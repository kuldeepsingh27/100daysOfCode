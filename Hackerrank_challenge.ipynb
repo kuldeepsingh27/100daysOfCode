{
 "cells": [
  {
   "cell_type": "code",
   "execution_count": 36,
   "metadata": {},
   "outputs": [
    {
     "name": "stdout",
     "output_type": "stream",
     "text": [
      "1\n",
      "Weird\n"
     ]
    }
   ],
   "source": [
    "n=int(input(''));\n",
    "if(1<=n<=100):\n",
    "    if((n%2==1) or (n%2==0 and 6<=n<=20) or (n==1)):\n",
    "        print('Weird');\n",
    "    elif((n%2==0 and 2<=n<6) or (n>20)):\n",
    "        print('Not Weird');\n",
    "else:\n",
    "    print('Invalid input please give input between 1 to 100')"
   ]
  },
  {
   "cell_type": "code",
   "execution_count": 51,
   "metadata": {},
   "outputs": [
    {
     "name": "stdout",
     "output_type": "stream",
     "text": [
      "3\n",
      "2\n",
      "5\n",
      "1\n",
      "6\n"
     ]
    }
   ],
   "source": [
    "a=int(input(''));\n",
    "b=int(input(''));\n",
    "if((1<=a<=10**10) and (1<=b<=10**10)):\n",
    "    print(a+b);\n",
    "    print(a-b);\n",
    "    print(a*b);\n",
    "else:\n",
    "    print('Please enter both in range of 1<=a,b<=10^10');"
   ]
  },
  {
   "cell_type": "code",
   "execution_count": 52,
   "metadata": {},
   "outputs": [
    {
     "name": "stdout",
     "output_type": "stream",
     "text": [
      "4\n",
      "3\n",
      "1\n",
      "1.3333333333333333\n"
     ]
    }
   ],
   "source": [
    "a=int(input(''));\n",
    "b=int(input(''));\n",
    "print(a//b);\n",
    "print(a/b);"
   ]
  },
  {
   "cell_type": "code",
   "execution_count": 66,
   "metadata": {},
   "outputs": [
    {
     "name": "stdout",
     "output_type": "stream",
     "text": [
      "5\n",
      "0\n",
      "1\n",
      "4\n",
      "9\n",
      "16\n"
     ]
    }
   ],
   "source": [
    "N=int(input(''));\n",
    "if(1<=N<=20):\n",
    "    for i in range (N):\n",
    "        print(i*i);\n",
    "else:\n",
    "    print('Please enter in range of 1<=n<=20');"
   ]
  },
  {
   "cell_type": "code",
   "execution_count": 34,
   "metadata": {},
   "outputs": [
    {
     "name": "stdout",
     "output_type": "stream",
     "text": [
      "1900\n",
      "False\n"
     ]
    }
   ],
   "source": [
    "def is_leap(year):\n",
    "    if(1900<=year<=10**5):\n",
    "        if((year%100!=0 or year%400==0) and (year%4==0)):\n",
    "            return (True);\n",
    "        else:\n",
    "            return (False);\n",
    "year = int(input())\n",
    "print(is_leap(year))"
   ]
  },
  {
   "cell_type": "code",
   "execution_count": 31,
   "metadata": {},
   "outputs": [
    {
     "name": "stdout",
     "output_type": "stream",
     "text": [
      "3\n",
      "123"
     ]
    }
   ],
   "source": [
    "N=int(input());\n",
    "for i in range (1,N+1):\n",
    "    print(i,end='');"
   ]
  },
  {
   "cell_type": "code",
   "execution_count": 11,
   "metadata": {},
   "outputs": [
    {
     "name": "stdout",
     "output_type": "stream",
     "text": [
      "9\n",
      "1 2 3 4 5 6 7 8 9\n",
      "9\n",
      "10 1 2 3 11 21 55 6 8\n",
      "8\n"
     ]
    }
   ],
   "source": [
    "a=int(input());\n",
    "x=set([int(x) for x in input().split(' ')]);\n",
    "b=int(input());\n",
    "y=set([int(y) for y in input().split(' ')]);\n",
    "count=0;\n",
    "z=set(x^y);\n",
    "for i in z:\n",
    "    count=count+1;\n",
    "print(count);"
   ]
  },
  {
   "cell_type": "code",
   "execution_count": 15,
   "metadata": {},
   "outputs": [
    {
     "name": "stdout",
     "output_type": "stream",
     "text": [
      "1\n",
      "1\n",
      "1\n",
      "2\n",
      "[[0, 0, 0], [0, 0, 1], [0, 1, 0], [1, 0, 0], [1, 1, 1]]\n"
     ]
    }
   ],
   "source": [
    "X=int(input());\n",
    "Y=int(input());\n",
    "Z=int(input());\n",
    "N=int(input());\n",
    "b=[];\n",
    "for i in range (0,X+1):\n",
    "    for j in range (0,Y+1):\n",
    "        for k in range (0,Z+1):\n",
    "            if(i+j+k!=N):\n",
    "                a=[i,j,k];\n",
    "                b.append(a);\n",
    "print(b);"
   ]
  },
  {
   "cell_type": "markdown",
   "metadata": {},
   "source": []
  },
  {
   "cell_type": "code",
   "execution_count": 24,
   "metadata": {},
   "outputs": [
    {
     "name": "stdout",
     "output_type": "stream",
     "text": [
      "4\n",
      "1 -1 -2 -1\n",
      "-1\n"
     ]
    }
   ],
   "source": [
    "n=int(input());\n",
    "A=list([int(x) for x in input().split(' ')]);\n",
    "A.sort();\n",
    "b=A[0];\n",
    "for i in A:\n",
    "    if(b<i):\n",
    "        c=b;\n",
    "        b=i;\n",
    "print(c)"
   ]
  },
  {
   "cell_type": "code",
   "execution_count": 2,
   "metadata": {},
   "outputs": [
    {
     "name": "stdout",
     "output_type": "stream",
     "text": [
      "5\n",
      "harsh\n",
      "20\n",
      "beria\n",
      "20\n",
      "varun\n",
      "19\n",
      "kakunami\n",
      "19\n",
      "vikas\n",
      "21\n",
      "beria\n",
      "harsh\n"
     ]
    }
   ],
   "source": [
    "N=int(input());\n",
    "b=[];\n",
    "for i in range(1,N+1):\n",
    "    x=str(input(''));\n",
    "    y=float(input());\n",
    "    a=[y,x];\n",
    "    b.append(a);\n",
    "    b.sort();\n",
    "for l in b:\n",
    "    c=l;\n",
    "    break;\n",
    "for j in b:\n",
    "    if(c[0]<j[0]):\n",
    "        c=j;\n",
    "        break;\n",
    "for k in b:\n",
    "    if(c[0]==k[0]):\n",
    "        print(k[1]);"
   ]
  },
  {
   "cell_type": "code",
   "execution_count": 20,
   "metadata": {},
   "outputs": [
    {
     "name": "stdout",
     "output_type": "stream",
     "text": [
      "2\n",
      "harsh 25 26.5 28\n",
      "anurag 26 28 30\n",
      "harsh\n",
      "26.50\n"
     ]
    }
   ],
   "source": [
    "N=int(input());\n",
    "st={};\n",
    "for i in range (0,N):\n",
    "    x=list([str(x) for x in input().split(' ')]);\n",
    "    key=x[0];\n",
    "    sum=0;\n",
    "    for j in x:\n",
    "        if(j!=key):\n",
    "            j=float(j);\n",
    "            sum=sum+j;\n",
    "    avg=(sum/3);\n",
    "    st.update({key:avg});\n",
    "y=input('');\n",
    "print(\"%.2f\" % st.get(y))"
   ]
  },
  {
   "cell_type": "code",
   "execution_count": 41,
   "metadata": {},
   "outputs": [
    {
     "name": "stdout",
     "output_type": "stream",
     "text": [
      "5\n",
      "    H    \n",
      "   HHH   \n",
      "  HHHHH  \n",
      " HHHHHHH \n",
      "HHHHHHHHH\n",
      "  HHHHH               HHHHH             \n",
      "  HHHHH               HHHHH             \n",
      "  HHHHH               HHHHH             \n",
      "  HHHHH               HHHHH             \n",
      "  HHHHH               HHHHH             \n",
      "  HHHHH               HHHHH             \n",
      "  HHHHHHHHHHHHHHHHHHHHHHHHH   \n",
      "  HHHHHHHHHHHHHHHHHHHHHHHHH   \n",
      "  HHHHHHHHHHHHHHHHHHHHHHHHH   \n",
      "  HHHHH               HHHHH             \n",
      "  HHHHH               HHHHH             \n",
      "  HHHHH               HHHHH             \n",
      "  HHHHH               HHHHH             \n",
      "  HHHHH               HHHHH             \n",
      "  HHHHH               HHHHH             \n",
      "                    HHHHHHHHH \n",
      "                     HHHHHHH  \n",
      "                      HHHHH   \n",
      "                       HHH    \n",
      "                        H     \n"
     ]
    }
   ],
   "source": [
    "#Replace all ______ with rjust, ljust or center. \n",
    "\n",
    "thickness = int(input()) #This must be an odd number\n",
    "c = 'H'\n",
    "\n",
    "#Top Cone\n",
    "for i in range(thickness):\n",
    "    print((c*i).rjust(thickness-1)+c+(c*i).ljust(thickness-1))\n",
    "\n",
    "#Top Pillars\n",
    "for i in range(thickness+1):\n",
    "    print((c*thickness).center(thickness*2)+(c*thickness).center(thickness*6))\n",
    "\n",
    "#Middle Belt\n",
    "for i in range((thickness+1)//2):\n",
    "    print((c*thickness*5).center(thickness*6))    \n",
    "\n",
    "#Bottom Pillars\n",
    "for i in range(thickness+1):\n",
    "    print((c*thickness).center(thickness*2)+(c*thickness).center(thickness*6))    \n",
    "\n",
    "#Bottom Cone\n",
    "for i in range(thickness):\n",
    "    print(((c*(thickness-i-1)).rjust(thickness)+c+(c*(thickness-i-1)).ljust(thickness)).rjust(thickness*6))"
   ]
  },
  {
   "cell_type": "code",
   "execution_count": 46,
   "metadata": {},
   "outputs": [
    {
     "name": "stdout",
     "output_type": "stream",
     "text": [
      "asdfghjklqwertyuiop\n",
      "3\n",
      "asd\n",
      "fgh\n",
      "jkl\n",
      "qwe\n",
      "rty\n",
      "uio\n",
      "p\n"
     ]
    }
   ],
   "source": [
    "import textwrap\n",
    "x=input('');\n",
    "w=int(input());\n",
    "for i in textwrap.wrap(x,w):\n",
    "    print(i);"
   ]
  },
  {
   "cell_type": "code",
   "execution_count": 72,
   "metadata": {},
   "outputs": [
    {
     "name": "stdout",
     "output_type": "stream",
     "text": [
      "asdfghjklqwertyuio\n",
      "4\n",
      "asdf\n",
      "ghjk\n",
      "lqwe\n",
      "rtyu\n",
      "io\n"
     ]
    }
   ],
   "source": [
    "import textwrap\n",
    "\n",
    "def wrap(string, max_width):\n",
    "    for i in textwrap.wrap(string, max_width):\n",
    "        x=i;\n",
    "    for i in textwrap.wrap(string, max_width):\n",
    "        if(i!=x):\n",
    "            print(i);\n",
    "        else:\n",
    "            return(i);\n",
    "\n",
    "if __name__ == '__main__':\n",
    "    string, max_width = input(), int(input())\n",
    "    result = wrap(string, max_width)\n",
    "    print(result)"
   ]
  },
  {
   "cell_type": "code",
   "execution_count": 146,
   "metadata": {},
   "outputs": [
    {
     "name": "stdout",
     "output_type": "stream",
     "text": [
      "11 33\n",
      "---------------.|.---------------\n",
      "------------.|..|..|.------------\n",
      "---------.|..|..|..|..|.---------\n",
      "------.|..|..|..|..|..|..|.------\n",
      "---.|..|..|..|..|..|..|..|..|.---\n",
      "-------------WELCOME-------------\n",
      "---.|..|..|..|..|..|..|..|..|.---\n",
      "------.|..|..|..|..|..|..|.------\n",
      "---------.|..|..|..|..|.---------\n",
      "------------.|..|..|.------------\n",
      "---------------.|.---------------\n"
     ]
    }
   ],
   "source": [
    "x=list([int(x) for x in input().split(' ')]);\n",
    "n=x[0];\n",
    "m=x[1]\n",
    "c='-';\n",
    "d='.|.';\n",
    "e='WELCOME';\n",
    "for i in range(1,n):\n",
    "    if(i%2!=0):\n",
    "        print((d*i).center(m,c));\n",
    "print((e).center(m,c));\n",
    "for j in range(1,n):\n",
    "    if(j%2!=0):\n",
    "        print((d*(n-j-1)).center(m,c));"
   ]
  },
  {
   "cell_type": "code",
   "execution_count": 187,
   "metadata": {},
   "outputs": [
    {
     "name": "stdout",
     "output_type": "stream",
     "text": [
      "9\n",
      "   1    1    1    1\n",
      "   2    2    2   10\n",
      "   3    3    3   11\n",
      "   4    4    4  100\n",
      "   5    5    5  101\n",
      "   6    6    6  110\n",
      "   7    7    7  111\n",
      "   8   10    8 1000\n",
      "   9   11    9 1001\n"
     ]
    }
   ],
   "source": [
    "def print_formatted(number):\n",
    "    x=number;\n",
    "    count=0;\n",
    "    z=str(bin(x).lstrip('0b'))\n",
    "    for j in z:\n",
    "        count=count+1;\n",
    "    for i in range (1,x+1):\n",
    "        print((str(i)).rjust(count),(str(oct(i).lstrip('0o'))).rjust(count),(str.upper(hex(i).lstrip('0x'))).rjust(count),(str(bin(i).lstrip('0b'))).rjust(count));\n",
    "if __name__ == '__main__':\n",
    "    n = int(input())\n",
    "    print_formatted(n)"
   ]
  },
  {
   "cell_type": "code",
   "execution_count": 195,
   "metadata": {},
   "outputs": [
    {
     "name": "stdout",
     "output_type": "stream",
     "text": [
      "5 15\n",
      "------.|.------\n",
      "---.|..|..|.---\n",
      "----WELCOME----\n",
      "---.|..|..|.---\n",
      "------.|.------\n"
     ]
    }
   ],
   "source": [
    "x=list([int(x) for x in input().split(' ')]);\n",
    "n=x[0];\n",
    "m=x[1]\n",
    "c='-';\n",
    "d='.|.';\n",
    "e='WELCOME';\n",
    "for i in range(1,n):\n",
    "    if(i%2!=0):\n",
    "        print((d*i).center(m,c));\n",
    "print((e).center(m,c));\n",
    "for j in range(1,n):\n",
    "    if(j%2!=0):\n",
    "        print((d*(n-j-1)).center(m,c));"
   ]
  },
  {
   "cell_type": "code",
   "execution_count": 196,
   "metadata": {},
   "outputs": [
    {
     "name": "stdout",
     "output_type": "stream",
     "text": [
      "103\n",
      "g\n",
      "g\n",
      "f\n",
      "e\n",
      "d\n",
      "c\n"
     ]
    }
   ],
   "source": [
    "x=int(input());\n",
    "print(chr(x));\n",
    "for i in range(0,5):\n",
    "    print(chr(x-i));"
   ]
  },
  {
   "cell_type": "code",
   "execution_count": null,
   "metadata": {},
   "outputs": [],
   "source": []
  }
 ],
 "metadata": {
  "kernelspec": {
   "display_name": "Python 3",
   "language": "python",
   "name": "python3"
  },
  "language_info": {
   "codemirror_mode": {
    "name": "ipython",
    "version": 3
   },
   "file_extension": ".py",
   "mimetype": "text/x-python",
   "name": "python",
   "nbconvert_exporter": "python",
   "pygments_lexer": "ipython3",
   "version": "3.7.4"
  }
 },
 "nbformat": 4,
 "nbformat_minor": 2
}
