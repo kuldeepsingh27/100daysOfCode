{
 "cells": [
  {
   "cell_type": "code",
   "execution_count": 4,
   "metadata": {},
   "outputs": [
    {
     "name": "stdout",
     "output_type": "stream",
     "text": [
      "Make a guess(only number) 4\n",
      "You loss  1 chance now you have only  2 chance\n",
      "Your guesss is little smaller than secret no.\n",
      "Make a guess(only number) 7\n",
      "You loss  2 chance now you have only  1 chance\n",
      "Your guesss is little smaller than secret no.\n",
      "Make a guess(only number) 8\n",
      "Congratulation you win !\n"
     ]
    }
   ],
   "source": [
    "#WAP to make a guessing game\n",
    "c=8;\n",
    "for i in range (3):\n",
    "    a=int(input('Make a guess(only number) '));\n",
    "    if(a==c):\n",
    "        print('Congratulation you win !');\n",
    "        break;\n",
    "    else:\n",
    "        b=a-c;\n",
    "        print('You loss ',i+1,'chance now you have only ',3-(i+1),'chance');\n",
    "        if(b<0 and b>=-7):\n",
    "            print('Your guesss is little smaller than secret no.');\n",
    "        elif(b<0 and b<-7):\n",
    "            print('Your guesss is smaller than secret no.');\n",
    "        elif(b>0 and b<=7):\n",
    "            print('Your guess is little greatter than secret no.');\n",
    "        else:\n",
    "            print('Your guess is greatter than secret no.')\n",
    "if(a!=c):\n",
    "    print('Better luck next time');\n",
    "        "
   ]
  },
  {
   "cell_type": "code",
   "execution_count": null,
   "metadata": {},
   "outputs": [],
   "source": []
  }
 ],
 "metadata": {
  "kernelspec": {
   "display_name": "Python 3",
   "language": "python",
   "name": "python3"
  },
  "language_info": {
   "codemirror_mode": {
    "name": "ipython",
    "version": 3
   },
   "file_extension": ".py",
   "mimetype": "text/x-python",
   "name": "python",
   "nbconvert_exporter": "python",
   "pygments_lexer": "ipython3",
   "version": "3.7.4"
  }
 },
 "nbformat": 4,
 "nbformat_minor": 2
}
